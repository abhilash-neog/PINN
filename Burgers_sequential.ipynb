{
 "cells": [
  {
   "cell_type": "markdown",
   "metadata": {},
   "source": [
    "## Libraries and Dependencies"
   ]
  },
  {
   "cell_type": "code",
   "execution_count": 1,
   "metadata": {},
   "outputs": [],
   "source": [
    "import sys\n",
    "sys.path.insert(0, './utils/')\n",
    "\n",
    "import torch\n",
    "import torch.nn as nn\n",
    "from collections import OrderedDict\n",
    "\n",
    "import numpy as np\n",
    "import matplotlib.pyplot as plt\n",
    "import scipy.io\n",
    "from scipy.interpolate import griddata\n",
    "from plotting import newfig, savefig\n",
    "from mpl_toolkits.axes_grid1 import make_axes_locatable\n",
    "import matplotlib.gridspec as gridspec\n",
    "import warnings\n",
    "\n",
    "warnings.filterwarnings('ignore')\n",
    "\n",
    "np.random.seed(1234)"
   ]
  },
  {
   "cell_type": "code",
   "execution_count": 2,
   "metadata": {},
   "outputs": [],
   "source": [
    "'''\n",
    "set number of iterations\n",
    "'''\n",
    "n_iter = 10000"
   ]
  },
  {
   "cell_type": "code",
   "execution_count": 3,
   "metadata": {},
   "outputs": [],
   "source": [
    "# CUDA support \n",
    "if torch.cuda.is_available():\n",
    "    device = torch.device('cuda:2')\n",
    "else:\n",
    "    device = torch.device('cpu')"
   ]
  },
  {
   "cell_type": "code",
   "execution_count": 4,
   "metadata": {},
   "outputs": [
    {
     "data": {
      "text/plain": [
       "device(type='cuda', index=2)"
      ]
     },
     "execution_count": 4,
     "metadata": {},
     "output_type": "execute_result"
    }
   ],
   "source": [
    "device"
   ]
  },
  {
   "cell_type": "markdown",
   "metadata": {},
   "source": [
    "## Physics-informed Neural Networks"
   ]
  },
  {
   "cell_type": "code",
   "execution_count": 5,
   "metadata": {},
   "outputs": [],
   "source": [
    "# the deep neural network\n",
    "class DNN(torch.nn.Module):\n",
    "    def __init__(self, layers):\n",
    "        super(DNN, self).__init__()\n",
    "        \n",
    "        # parameters\n",
    "        self.depth = len(layers) - 1\n",
    "        \n",
    "        # set up layer order dict\n",
    "        self.activation = torch.nn.Tanh\n",
    "        \n",
    "        layer_list = list()\n",
    "        for i in range(self.depth - 1): \n",
    "            layer_list.append(\n",
    "                ('layer_%d' % i, torch.nn.Linear(layers[i], layers[i+1]))\n",
    "            )\n",
    "            layer_list.append(('activation_%d' % i, self.activation()))\n",
    "            \n",
    "        layer_list.append(\n",
    "            ('layer_%d' % (self.depth - 1), torch.nn.Linear(layers[-2], layers[-1]))\n",
    "        )\n",
    "        layerDict = OrderedDict(layer_list)\n",
    "        \n",
    "        # deploy layers\n",
    "        self.layers = torch.nn.Sequential(layerDict)\n",
    "        \n",
    "    def forward(self, x):\n",
    "        out = self.layers(x)\n",
    "        return out"
   ]
  },
  {
   "cell_type": "code",
   "execution_count": 6,
   "metadata": {},
   "outputs": [],
   "source": [
    "# the physics-guided neural network\n",
    "class PhysicsInformedNN(nn.Module):\n",
    "    def __init__(self, X, u, layers, lb, ub):\n",
    "        \n",
    "        super().__init__()\n",
    "        # boundary conditions\n",
    "        self.lb = torch.tensor(lb).float().to(device)\n",
    "        self.ub = torch.tensor(ub).float().to(device)\n",
    "        \n",
    "        # data\n",
    "        self.x = torch.tensor(X[:, 0:1], requires_grad=True).float().to(device)\n",
    "        self.t = torch.tensor(X[:, 1:2], requires_grad=True).float().to(device)\n",
    "        self.u = torch.tensor(u).float().to(device)\n",
    "        \n",
    "        # settings\n",
    "        self.lambda_1 = torch.tensor([0.0], requires_grad=True).to(device)\n",
    "        self.lambda_2 = torch.tensor([-6.0], requires_grad=True).to(device)\n",
    "        \n",
    "        self.lambda_1 = torch.nn.Parameter(self.lambda_1)\n",
    "        self.lambda_2 = torch.nn.Parameter(self.lambda_2)\n",
    "        \n",
    "        # deep neural networks\n",
    "        self.dnn = DNN(layers).to(device)\n",
    "        self.dnn.register_parameter('lambda_1', self.lambda_1)\n",
    "        self.dnn.register_parameter('lambda_2', self.lambda_2)\n",
    "        \n",
    "         # optimizers: using the same settings\n",
    "        self.optimizer = torch.optim.LBFGS(\n",
    "            self.dnn.parameters(), \n",
    "            lr=1.0, \n",
    "            max_iter=n_iter, \n",
    "            max_eval=n_iter, \n",
    "            history_size=50,\n",
    "            tolerance_grad=1e-5, \n",
    "            tolerance_change=1.0 * np.finfo(float).eps,\n",
    "            line_search_fn=\"strong_wolfe\"       # can be \"strong_wolfe\"\n",
    "        )\n",
    "        \n",
    "        self.optimizer_Adam = torch.optim.Adam(self.dnn.parameters())\n",
    "        self.iter = 0\n",
    "        \n",
    "        self.history = []\n",
    "\n",
    "    def net_u(self, x, t):  \n",
    "        u = self.dnn(torch.cat([x, t], dim=1))\n",
    "        return u\n",
    "    \n",
    "    def net_f(self, x, t):\n",
    "        \"\"\" The pytorch autograd version of calculating residual \"\"\"\n",
    "        lambda_1 = self.lambda_1        \n",
    "        lambda_2 = torch.exp(self.lambda_2)\n",
    "        u = self.net_u(x, t)\n",
    "        \n",
    "        u_t = torch.autograd.grad(\n",
    "            u, t, \n",
    "            grad_outputs=torch.ones_like(u),\n",
    "            retain_graph=True,\n",
    "            create_graph=True\n",
    "        )[0]\n",
    "        u_x = torch.autograd.grad(\n",
    "            u, x, \n",
    "            grad_outputs=torch.ones_like(u),\n",
    "            retain_graph=True,\n",
    "            create_graph=True\n",
    "        )[0]\n",
    "        u_xx = torch.autograd.grad(\n",
    "            u_x, x, \n",
    "            grad_outputs=torch.ones_like(u_x),\n",
    "            retain_graph=True,\n",
    "            create_graph=True\n",
    "        )[0]\n",
    "        \n",
    "        f = u_t + lambda_1 * u * u_x - lambda_2 * u_xx\n",
    "        return f\n",
    "    \n",
    "    def loss_func_data_driven(self):\n",
    "        u_pred = self.net_u(self.x, self.t)\n",
    "        loss = torch.mean((self.u - u_pred) ** 2)\n",
    "        self.optimizer.zero_grad()\n",
    "        loss.backward()\n",
    "        self.history.append(loss.item())\n",
    "        self.iter += 1\n",
    "        if self.iter % 100 == 0:\n",
    "            print(\n",
    "                'Loss: %e, l1: %.5f, l2: %.5f' % \n",
    "                (\n",
    "                    loss.item(), \n",
    "                    self.lambda_1.item(), \n",
    "                    torch.exp(self.lambda_2.detach()).item()\n",
    "                )\n",
    "            )\n",
    "        return loss\n",
    "    \n",
    "    def loss_func_physics(self):\n",
    "        f_pred = self.net_f(self.x, self.t)\n",
    "        loss = torch.mean(f_pred ** 2)\n",
    "        self.optimizer.zero_grad()\n",
    "        loss.backward()\n",
    "        self.history.append(loss.item())\n",
    "        self.iter += 1\n",
    "        if self.iter % 100 == 0:\n",
    "            print(\n",
    "                'Loss: %e, l1: %.5f, l2: %.5f' % \n",
    "                (\n",
    "                    loss.item(), \n",
    "                    self.lambda_1.item(), \n",
    "                    torch.exp(self.lambda_2.detach()).item()\n",
    "                )\n",
    "            )\n",
    "        return loss\n",
    "    \n",
    "    def train_data_driven(self, nIter):\n",
    "        self.dnn.train()\n",
    "        history = []\n",
    "        for epoch in range(nIter):\n",
    "            u_pred = self.net_u(self.x, self.t)\n",
    "            loss = torch.mean((self.u - u_pred) ** 2)\n",
    "            \n",
    "            # Backward and optimize\n",
    "            self.optimizer_Adam.zero_grad()\n",
    "            loss.backward()\n",
    "            self.optimizer_Adam.step()\n",
    "            self.history.append(loss.item())\n",
    "            if epoch % 100 == 0:\n",
    "                print(\n",
    "                    'It: %d, Loss: %.3e, Lambda_1: %.3f, Lambda_2: %.6f' % \n",
    "                    (\n",
    "                        epoch, \n",
    "                        loss.item(), \n",
    "                        self.lambda_1.item(), \n",
    "                        torch.exp(self.lambda_2).item()\n",
    "                    )\n",
    "                )\n",
    "                \n",
    "        # Backward and optimize\n",
    "        self.optimizer.step(self.loss_func_data_driven)\n",
    "    \n",
    "    def train_data_physics(self, nIter):\n",
    "        # self.dnn.train()\n",
    "        history = []\n",
    "        for epoch in range(nIter):\n",
    "            f_pred = self.net_f(self.x, self.t)\n",
    "            loss = torch.mean(f_pred ** 2)\n",
    "            \n",
    "            # Backward and optimize\n",
    "            self.optimizer_Adam.zero_grad()\n",
    "            loss.backward()\n",
    "            self.optimizer_Adam.step()\n",
    "            self.history.append(loss.item())\n",
    "            if epoch % 100 == 0:\n",
    "                print(\n",
    "                    'It: %d, Loss: %.3e, Lambda_1: %.3f, Lambda_2: %.6f' % \n",
    "                    (\n",
    "                        epoch, \n",
    "                        loss.item(), \n",
    "                        self.lambda_1.item(), \n",
    "                        torch.exp(self.lambda_2).item()\n",
    "                    )\n",
    "                )\n",
    "                \n",
    "        # Backward and optimize\n",
    "        self.optimizer.step(self.loss_func_physics)\n",
    "        \n",
    "    def predict_data_driven(self, X):\n",
    "        x = torch.tensor(X[:, 0:1], requires_grad=True).float().to(device)\n",
    "        t = torch.tensor(X[:, 1:2], requires_grad=True).float().to(device)\n",
    "\n",
    "        self.dnn.eval()\n",
    "        u = self.net_u(x, t)\n",
    "        f = self.net_f(x, t)\n",
    "        u = u.detach().cpu().numpy()\n",
    "        f = f.detach().cpu().numpy()\n",
    "        return u, f\n",
    "    \n",
    "    def predict_physics(self, X):\n",
    "        x = torch.tensor(X[:, 0:1], requires_grad=True).float().to(device)\n",
    "        t = torch.tensor(X[:, 1:2], requires_grad=True).float().to(device)\n",
    "\n",
    "        self.dnn.eval()\n",
    "        u = self.net_u(x, t)\n",
    "        f = self.net_f(x, t)\n",
    "        u = u.detach().cpu().numpy()\n",
    "        f = f.detach().cpu().numpy()\n",
    "        return u, f"
   ]
  },
  {
   "cell_type": "markdown",
   "metadata": {},
   "source": [
    "## Configurations"
   ]
  },
  {
   "cell_type": "code",
   "execution_count": 7,
   "metadata": {},
   "outputs": [],
   "source": [
    "nu = 0.01/np.pi\n",
    "\n",
    "N_u = 2000\n",
    "layers = [2, 20, 20, 20, 20, 20, 20, 20, 20, 1]\n",
    "\n",
    "data = scipy.io.loadmat('data/burgers_shock.mat')\n",
    "\n",
    "t = data['t'].flatten()[:,None]\n",
    "x = data['x'].flatten()[:,None]\n",
    "Exact = np.real(data['usol']).T\n",
    "\n",
    "X, T = np.meshgrid(x,t)\n",
    "\n",
    "X_star = np.hstack((X.flatten()[:,None], T.flatten()[:,None]))\n",
    "u_star = Exact.flatten()[:,None]              \n",
    "\n",
    "# Doman bounds\n",
    "lb = X_star.min(0)\n",
    "ub = X_star.max(0) "
   ]
  },
  {
   "cell_type": "markdown",
   "metadata": {},
   "source": [
    "## Training on Non-noisy Data"
   ]
  },
  {
   "cell_type": "code",
   "execution_count": 8,
   "metadata": {},
   "outputs": [
    {
     "data": {
      "text/plain": [
       "'\\nStage I\\n'"
      ]
     },
     "execution_count": 8,
     "metadata": {},
     "output_type": "execute_result"
    }
   ],
   "source": [
    "'''\n",
    "Stage I\n",
    "'''"
   ]
  },
  {
   "cell_type": "code",
   "execution_count": 9,
   "metadata": {
    "scrolled": true,
    "tags": []
   },
   "outputs": [
    {
     "name": "stdout",
     "output_type": "stream",
     "text": [
      "It: 0, Loss: 4.195e-01, Lambda_1: 0.000, Lambda_2: 0.002479\n",
      "It: 100, Loss: 8.047e-02, Lambda_1: 0.000, Lambda_2: 0.002479\n",
      "It: 200, Loss: 2.811e-02, Lambda_1: 0.000, Lambda_2: 0.002479\n",
      "It: 300, Loss: 1.313e-02, Lambda_1: 0.000, Lambda_2: 0.002479\n",
      "It: 400, Loss: 9.945e-03, Lambda_1: 0.000, Lambda_2: 0.002479\n",
      "It: 500, Loss: 6.246e-03, Lambda_1: 0.000, Lambda_2: 0.002479\n",
      "It: 600, Loss: 3.737e-03, Lambda_1: 0.000, Lambda_2: 0.002479\n",
      "It: 700, Loss: 2.672e-03, Lambda_1: 0.000, Lambda_2: 0.002479\n",
      "It: 800, Loss: 2.025e-03, Lambda_1: 0.000, Lambda_2: 0.002479\n",
      "It: 900, Loss: 1.623e-03, Lambda_1: 0.000, Lambda_2: 0.002479\n",
      "It: 1000, Loss: 1.309e-03, Lambda_1: 0.000, Lambda_2: 0.002479\n",
      "It: 1100, Loss: 1.106e-03, Lambda_1: 0.000, Lambda_2: 0.002479\n",
      "It: 1200, Loss: 8.714e-04, Lambda_1: 0.000, Lambda_2: 0.002479\n",
      "It: 1300, Loss: 7.222e-04, Lambda_1: 0.000, Lambda_2: 0.002479\n",
      "It: 1400, Loss: 6.142e-04, Lambda_1: 0.000, Lambda_2: 0.002479\n",
      "It: 1500, Loss: 5.264e-04, Lambda_1: 0.000, Lambda_2: 0.002479\n",
      "It: 1600, Loss: 4.600e-04, Lambda_1: 0.000, Lambda_2: 0.002479\n",
      "It: 1700, Loss: 3.952e-04, Lambda_1: 0.000, Lambda_2: 0.002479\n",
      "It: 1800, Loss: 3.493e-04, Lambda_1: 0.000, Lambda_2: 0.002479\n",
      "It: 1900, Loss: 2.948e-04, Lambda_1: 0.000, Lambda_2: 0.002479\n",
      "It: 2000, Loss: 2.567e-04, Lambda_1: 0.000, Lambda_2: 0.002479\n",
      "It: 2100, Loss: 2.205e-04, Lambda_1: 0.000, Lambda_2: 0.002479\n",
      "It: 2200, Loss: 1.900e-04, Lambda_1: 0.000, Lambda_2: 0.002479\n",
      "It: 2300, Loss: 1.667e-04, Lambda_1: 0.000, Lambda_2: 0.002479\n",
      "It: 2400, Loss: 1.461e-04, Lambda_1: 0.000, Lambda_2: 0.002479\n",
      "It: 2500, Loss: 1.277e-04, Lambda_1: 0.000, Lambda_2: 0.002479\n",
      "It: 2600, Loss: 1.146e-04, Lambda_1: 0.000, Lambda_2: 0.002479\n",
      "It: 2700, Loss: 1.021e-04, Lambda_1: 0.000, Lambda_2: 0.002479\n",
      "It: 2800, Loss: 9.279e-05, Lambda_1: 0.000, Lambda_2: 0.002479\n",
      "It: 2900, Loss: 8.619e-05, Lambda_1: 0.000, Lambda_2: 0.002479\n",
      "It: 3000, Loss: 7.909e-05, Lambda_1: 0.000, Lambda_2: 0.002479\n",
      "It: 3100, Loss: 8.984e-05, Lambda_1: 0.000, Lambda_2: 0.002479\n",
      "It: 3200, Loss: 6.550e-05, Lambda_1: 0.000, Lambda_2: 0.002479\n",
      "It: 3300, Loss: 7.501e-05, Lambda_1: 0.000, Lambda_2: 0.002479\n",
      "It: 3400, Loss: 6.109e-05, Lambda_1: 0.000, Lambda_2: 0.002479\n",
      "It: 3500, Loss: 5.567e-05, Lambda_1: 0.000, Lambda_2: 0.002479\n",
      "It: 3600, Loss: 5.145e-04, Lambda_1: 0.000, Lambda_2: 0.002479\n",
      "It: 3700, Loss: 4.806e-05, Lambda_1: 0.000, Lambda_2: 0.002479\n",
      "It: 3800, Loss: 4.987e-05, Lambda_1: 0.000, Lambda_2: 0.002479\n",
      "It: 3900, Loss: 4.731e-05, Lambda_1: 0.000, Lambda_2: 0.002479\n",
      "It: 4000, Loss: 1.519e-04, Lambda_1: 0.000, Lambda_2: 0.002479\n",
      "It: 4100, Loss: 4.020e-05, Lambda_1: 0.000, Lambda_2: 0.002479\n",
      "It: 4200, Loss: 3.637e-05, Lambda_1: 0.000, Lambda_2: 0.002479\n",
      "It: 4300, Loss: 3.989e-05, Lambda_1: 0.000, Lambda_2: 0.002479\n",
      "It: 4400, Loss: 6.328e-05, Lambda_1: 0.000, Lambda_2: 0.002479\n",
      "It: 4500, Loss: 3.418e-05, Lambda_1: 0.000, Lambda_2: 0.002479\n",
      "It: 4600, Loss: 4.250e-05, Lambda_1: 0.000, Lambda_2: 0.002479\n",
      "It: 4700, Loss: 3.148e-05, Lambda_1: 0.000, Lambda_2: 0.002479\n",
      "It: 4800, Loss: 8.866e-05, Lambda_1: 0.000, Lambda_2: 0.002479\n",
      "It: 4900, Loss: 2.969e-05, Lambda_1: 0.000, Lambda_2: 0.002479\n",
      "It: 5000, Loss: 2.613e-05, Lambda_1: 0.000, Lambda_2: 0.002479\n",
      "It: 5100, Loss: 2.638e-05, Lambda_1: 0.000, Lambda_2: 0.002479\n",
      "It: 5200, Loss: 2.482e-05, Lambda_1: 0.000, Lambda_2: 0.002479\n",
      "It: 5300, Loss: 2.830e-05, Lambda_1: 0.000, Lambda_2: 0.002479\n",
      "It: 5400, Loss: 2.312e-05, Lambda_1: 0.000, Lambda_2: 0.002479\n",
      "It: 5500, Loss: 1.234e-04, Lambda_1: 0.000, Lambda_2: 0.002479\n",
      "It: 5600, Loss: 3.756e-05, Lambda_1: 0.000, Lambda_2: 0.002479\n",
      "It: 5700, Loss: 2.241e-05, Lambda_1: 0.000, Lambda_2: 0.002479\n",
      "It: 5800, Loss: 2.405e-05, Lambda_1: 0.000, Lambda_2: 0.002479\n",
      "It: 5900, Loss: 2.283e-05, Lambda_1: 0.000, Lambda_2: 0.002479\n",
      "It: 6000, Loss: 1.940e-05, Lambda_1: 0.000, Lambda_2: 0.002479\n",
      "It: 6100, Loss: 2.006e-05, Lambda_1: 0.000, Lambda_2: 0.002479\n",
      "It: 6200, Loss: 2.078e-05, Lambda_1: 0.000, Lambda_2: 0.002479\n",
      "It: 6300, Loss: 8.694e-05, Lambda_1: 0.000, Lambda_2: 0.002479\n",
      "It: 6400, Loss: 2.248e-05, Lambda_1: 0.000, Lambda_2: 0.002479\n",
      "It: 6500, Loss: 1.951e-05, Lambda_1: 0.000, Lambda_2: 0.002479\n",
      "It: 6600, Loss: 1.770e-05, Lambda_1: 0.000, Lambda_2: 0.002479\n",
      "It: 6700, Loss: 3.512e-05, Lambda_1: 0.000, Lambda_2: 0.002479\n",
      "It: 6800, Loss: 1.455e-05, Lambda_1: 0.000, Lambda_2: 0.002479\n",
      "It: 6900, Loss: 1.455e-05, Lambda_1: 0.000, Lambda_2: 0.002479\n",
      "It: 7000, Loss: 2.759e-05, Lambda_1: 0.000, Lambda_2: 0.002479\n",
      "It: 7100, Loss: 1.545e-05, Lambda_1: 0.000, Lambda_2: 0.002479\n",
      "It: 7200, Loss: 3.146e-05, Lambda_1: 0.000, Lambda_2: 0.002479\n",
      "It: 7300, Loss: 1.506e-05, Lambda_1: 0.000, Lambda_2: 0.002479\n",
      "It: 7400, Loss: 1.280e-05, Lambda_1: 0.000, Lambda_2: 0.002479\n",
      "It: 7500, Loss: 1.355e-05, Lambda_1: 0.000, Lambda_2: 0.002479\n",
      "It: 7600, Loss: 2.972e-05, Lambda_1: 0.000, Lambda_2: 0.002479\n",
      "It: 7700, Loss: 1.194e-05, Lambda_1: 0.000, Lambda_2: 0.002479\n",
      "It: 7800, Loss: 1.472e-05, Lambda_1: 0.000, Lambda_2: 0.002479\n",
      "It: 7900, Loss: 3.395e-04, Lambda_1: 0.000, Lambda_2: 0.002479\n",
      "It: 8000, Loss: 1.263e-05, Lambda_1: 0.000, Lambda_2: 0.002479\n",
      "It: 8100, Loss: 1.090e-05, Lambda_1: 0.000, Lambda_2: 0.002479\n",
      "It: 8200, Loss: 1.330e-05, Lambda_1: 0.000, Lambda_2: 0.002479\n",
      "It: 8300, Loss: 1.114e-05, Lambda_1: 0.000, Lambda_2: 0.002479\n",
      "It: 8400, Loss: 6.459e-05, Lambda_1: 0.000, Lambda_2: 0.002479\n",
      "It: 8500, Loss: 2.324e-04, Lambda_1: 0.000, Lambda_2: 0.002479\n",
      "It: 8600, Loss: 1.027e-05, Lambda_1: 0.000, Lambda_2: 0.002479\n",
      "It: 8700, Loss: 1.525e-05, Lambda_1: 0.000, Lambda_2: 0.002479\n",
      "It: 8800, Loss: 2.572e-05, Lambda_1: 0.000, Lambda_2: 0.002479\n",
      "It: 8900, Loss: 1.253e-05, Lambda_1: 0.000, Lambda_2: 0.002479\n",
      "It: 9000, Loss: 1.948e-05, Lambda_1: 0.000, Lambda_2: 0.002479\n",
      "It: 9100, Loss: 1.399e-05, Lambda_1: 0.000, Lambda_2: 0.002479\n",
      "It: 9200, Loss: 1.852e-05, Lambda_1: 0.000, Lambda_2: 0.002479\n",
      "It: 9300, Loss: 1.275e-05, Lambda_1: 0.000, Lambda_2: 0.002479\n",
      "It: 9400, Loss: 1.071e-05, Lambda_1: 0.000, Lambda_2: 0.002479\n",
      "It: 9500, Loss: 2.714e-05, Lambda_1: 0.000, Lambda_2: 0.002479\n",
      "It: 9600, Loss: 1.669e-04, Lambda_1: 0.000, Lambda_2: 0.002479\n",
      "It: 9700, Loss: 1.180e-05, Lambda_1: 0.000, Lambda_2: 0.002479\n",
      "It: 9800, Loss: 3.874e-05, Lambda_1: 0.000, Lambda_2: 0.002479\n",
      "It: 9900, Loss: 4.193e-05, Lambda_1: 0.000, Lambda_2: 0.002479\n",
      "CPU times: user 57.5 s, sys: 1.35 s, total: 58.9 s\n",
      "Wall time: 58.7 s\n"
     ]
    }
   ],
   "source": [
    "%%time\n",
    "\n",
    "noise = 0.0            \n",
    "\n",
    "# create training set\n",
    "idx = np.random.choice(X_star.shape[0], N_u, replace=False)\n",
    "X_u_train = X_star[idx,:]\n",
    "u_train = u_star[idx,:]\n",
    "\n",
    "# training\n",
    "model_DD = PhysicsInformedNN(X_u_train, u_train, layers, lb, ub)\n",
    "model_DD.train_data_driven(10000)"
   ]
  },
  {
   "cell_type": "code",
   "execution_count": 10,
   "metadata": {},
   "outputs": [
    {
     "data": {
      "text/plain": [
       "[<matplotlib.lines.Line2D at 0x7f5c844359d0>]"
      ]
     },
     "execution_count": 10,
     "metadata": {},
     "output_type": "execute_result"
    },
    {
     "data": {
      "image/png": "[encoded data removed]",
      "text/plain": [
       "<Figure size 1500x400 with 1 Axes>"
      ]
     },
     "metadata": {},
     "output_type": "display_data"
    }
   ],
   "source": [
    "plt.figure(figsize=(15,4))\n",
    "plt.title(\"Default training: Without loss weighing\")\n",
    "plt.xlabel(\"BFGS iterations\")\n",
    "plt.ylabel(\"Loss\")\n",
    "plt.plot(model_DD.history)"
   ]
  },
  {
   "cell_type": "code",
   "execution_count": 11,
   "metadata": {},
   "outputs": [
    {
     "name": "stdout",
     "output_type": "stream",
     "text": [
      "Error u: 7.492132e-03\n",
      "Error l1: 100.00000%\n",
      "Error l2: 22.12771%\n"
     ]
    }
   ],
   "source": [
    "# evaluations\n",
    "u_pred, f_pred = model_DD.predict_data_driven(X_star)\n",
    "\n",
    "error_u = np.linalg.norm(u_star-u_pred,2)/np.linalg.norm(u_star,2)\n",
    "\n",
    "U_pred = griddata(X_star, u_pred.flatten(), (X, T), method='cubic')\n",
    "\n",
    "lambda_1_value = model_DD.lambda_1.detach().cpu().numpy()\n",
    "lambda_2_value = model_DD.lambda_2.detach().cpu().numpy()\n",
    "lambda_2_value = np.exp(lambda_2_value)\n",
    "\n",
    "error_lambda_1 = np.abs(lambda_1_value - 1.0) * 100\n",
    "error_lambda_2 = np.abs(lambda_2_value - nu) / nu * 100\n",
    "\n",
    "print('Error u: %e' % (error_u))    \n",
    "print('Error l1: %.5f%%' % (error_lambda_1))                             \n",
    "print('Error l2: %.5f%%' % (error_lambda_2))  "
   ]
  },
  {
   "cell_type": "code",
   "execution_count": 12,
   "metadata": {},
   "outputs": [],
   "source": [
    "torch.save(model_DD.state_dict(), 'model_data_driven_10k.pth')"
   ]
  },
  {
   "cell_type": "code",
   "execution_count": 13,
   "metadata": {},
   "outputs": [
    {
     "data": {
      "text/plain": [
       "'\\nStage II\\n'"
      ]
     },
     "execution_count": 13,
     "metadata": {},
     "output_type": "execute_result"
    }
   ],
   "source": [
    "'''\n",
    "Stage II\n",
    "'''"
   ]
  },
  {
   "cell_type": "code",
   "execution_count": 14,
   "metadata": {},
   "outputs": [
    {
     "data": {
      "text/plain": [
       "<All keys matched successfully>"
      ]
     },
     "execution_count": 14,
     "metadata": {},
     "output_type": "execute_result"
    }
   ],
   "source": [
    "modelphy = PhysicsInformedNN(X_u_train, u_train, layers, lb, ub)\n",
    "modelphy.load_state_dict(torch.load('model_data_driven_10k.pth'))"
   ]
  },
  {
   "cell_type": "code",
   "execution_count": 15,
   "metadata": {},
   "outputs": [],
   "source": [
    "# modelphy.lambda_1 = torch.tensor([0.0], requires_grad=True).to(device)\n",
    "# modelphy.lambda_2 = torch.tensor([-6.0], requires_grad=True).to(device)"
   ]
  },
  {
   "cell_type": "code",
   "execution_count": 16,
   "metadata": {
    "scrolled": true,
    "tags": []
   },
   "outputs": [
    {
     "name": "stdout",
     "output_type": "stream",
     "text": [
      "It: 0, Loss: 3.455e+00, Lambda_1: 0.001, Lambda_2: 0.002476\n",
      "It: 100, Loss: 3.818e-02, Lambda_1: 0.019, Lambda_2: 0.002431\n",
      "It: 200, Loss: 1.451e-02, Lambda_1: 0.020, Lambda_2: 0.002426\n",
      "It: 300, Loss: 6.950e-03, Lambda_1: 0.020, Lambda_2: 0.002422\n",
      "It: 400, Loss: 3.906e-03, Lambda_1: 0.020, Lambda_2: 0.002420\n",
      "It: 500, Loss: 2.638e-03, Lambda_1: 0.020, Lambda_2: 0.002419\n",
      "It: 600, Loss: 2.006e-03, Lambda_1: 0.020, Lambda_2: 0.002418\n",
      "It: 700, Loss: 1.603e-03, Lambda_1: 0.021, Lambda_2: 0.002417\n",
      "It: 800, Loss: 1.310e-03, Lambda_1: 0.021, Lambda_2: 0.002417\n",
      "It: 900, Loss: 1.085e-03, Lambda_1: 0.021, Lambda_2: 0.002416\n",
      "It: 1000, Loss: 9.050e-04, Lambda_1: 0.021, Lambda_2: 0.002415\n",
      "It: 1100, Loss: 7.592e-04, Lambda_1: 0.021, Lambda_2: 0.002415\n",
      "It: 1200, Loss: 6.393e-04, Lambda_1: 0.021, Lambda_2: 0.002414\n",
      "It: 1300, Loss: 5.400e-04, Lambda_1: 0.021, Lambda_2: 0.002414\n",
      "It: 1400, Loss: 4.574e-04, Lambda_1: 0.021, Lambda_2: 0.002413\n",
      "It: 1500, Loss: 3.885e-04, Lambda_1: 0.021, Lambda_2: 0.002413\n",
      "It: 1600, Loss: 3.308e-04, Lambda_1: 0.021, Lambda_2: 0.002413\n",
      "It: 1700, Loss: 2.823e-04, Lambda_1: 0.021, Lambda_2: 0.002412\n",
      "It: 1800, Loss: 2.415e-04, Lambda_1: 0.021, Lambda_2: 0.002412\n",
      "It: 1900, Loss: 2.069e-04, Lambda_1: 0.021, Lambda_2: 0.002412\n",
      "It: 2000, Loss: 1.776e-04, Lambda_1: 0.021, Lambda_2: 0.002412\n",
      "It: 2100, Loss: 1.526e-04, Lambda_1: 0.021, Lambda_2: 0.002411\n",
      "It: 2200, Loss: 1.312e-04, Lambda_1: 0.021, Lambda_2: 0.002411\n",
      "It: 2300, Loss: 1.131e-04, Lambda_1: 0.021, Lambda_2: 0.002411\n",
      "It: 2400, Loss: 9.755e-05, Lambda_1: 0.021, Lambda_2: 0.002411\n",
      "It: 2500, Loss: 8.436e-05, Lambda_1: 0.021, Lambda_2: 0.002411\n",
      "It: 2600, Loss: 7.315e-05, Lambda_1: 0.021, Lambda_2: 0.002411\n",
      "It: 2700, Loss: 6.362e-05, Lambda_1: 0.021, Lambda_2: 0.002411\n",
      "It: 2800, Loss: 5.553e-05, Lambda_1: 0.021, Lambda_2: 0.002410\n",
      "It: 2900, Loss: 4.865e-05, Lambda_1: 0.021, Lambda_2: 0.002410\n",
      "It: 3000, Loss: 4.281e-05, Lambda_1: 0.021, Lambda_2: 0.002410\n",
      "It: 3100, Loss: 3.784e-05, Lambda_1: 0.021, Lambda_2: 0.002410\n",
      "It: 3200, Loss: 3.360e-05, Lambda_1: 0.021, Lambda_2: 0.002410\n",
      "It: 3300, Loss: 2.999e-05, Lambda_1: 0.021, Lambda_2: 0.002410\n",
      "It: 3400, Loss: 2.689e-05, Lambda_1: 0.021, Lambda_2: 0.002410\n",
      "It: 3500, Loss: 2.422e-05, Lambda_1: 0.021, Lambda_2: 0.002410\n",
      "It: 3600, Loss: 2.192e-05, Lambda_1: 0.021, Lambda_2: 0.002410\n",
      "It: 3700, Loss: 1.992e-05, Lambda_1: 0.021, Lambda_2: 0.002410\n",
      "It: 3800, Loss: 1.816e-05, Lambda_1: 0.021, Lambda_2: 0.002410\n",
      "It: 3900, Loss: 1.663e-05, Lambda_1: 0.021, Lambda_2: 0.002410\n",
      "It: 4000, Loss: 1.527e-05, Lambda_1: 0.021, Lambda_2: 0.002410\n",
      "It: 4100, Loss: 1.406e-05, Lambda_1: 0.021, Lambda_2: 0.002410\n",
      "It: 4200, Loss: 1.298e-05, Lambda_1: 0.021, Lambda_2: 0.002410\n",
      "It: 4300, Loss: 1.202e-05, Lambda_1: 0.021, Lambda_2: 0.002410\n",
      "It: 4400, Loss: 1.115e-05, Lambda_1: 0.021, Lambda_2: 0.002410\n",
      "It: 4500, Loss: 1.038e-05, Lambda_1: 0.021, Lambda_2: 0.002410\n",
      "It: 4600, Loss: 9.671e-06, Lambda_1: 0.021, Lambda_2: 0.002410\n",
      "It: 4700, Loss: 9.032e-06, Lambda_1: 0.021, Lambda_2: 0.002410\n",
      "It: 4800, Loss: 8.451e-06, Lambda_1: 0.021, Lambda_2: 0.002410\n",
      "It: 4900, Loss: 7.919e-06, Lambda_1: 0.021, Lambda_2: 0.002410\n",
      "It: 5000, Loss: 7.432e-06, Lambda_1: 0.021, Lambda_2: 0.002410\n",
      "It: 5100, Loss: 6.985e-06, Lambda_1: 0.021, Lambda_2: 0.002410\n",
      "It: 5200, Loss: 6.572e-06, Lambda_1: 0.021, Lambda_2: 0.002410\n",
      "It: 5300, Loss: 6.190e-06, Lambda_1: 0.021, Lambda_2: 0.002410\n",
      "It: 5400, Loss: 5.835e-06, Lambda_1: 0.021, Lambda_2: 0.002410\n",
      "It: 5500, Loss: 5.506e-06, Lambda_1: 0.021, Lambda_2: 0.002410\n",
      "It: 5600, Loss: 5.199e-06, Lambda_1: 0.021, Lambda_2: 0.002410\n",
      "It: 5700, Loss: 4.912e-06, Lambda_1: 0.021, Lambda_2: 0.002410\n",
      "It: 5800, Loss: 4.644e-06, Lambda_1: 0.021, Lambda_2: 0.002410\n",
      "It: 5900, Loss: 4.394e-06, Lambda_1: 0.021, Lambda_2: 0.002410\n",
      "It: 6000, Loss: 4.159e-06, Lambda_1: 0.021, Lambda_2: 0.002410\n",
      "It: 6100, Loss: 3.939e-06, Lambda_1: 0.021, Lambda_2: 0.002410\n",
      "It: 6200, Loss: 3.733e-06, Lambda_1: 0.021, Lambda_2: 0.002410\n",
      "It: 6300, Loss: 3.540e-06, Lambda_1: 0.021, Lambda_2: 0.002410\n",
      "It: 6400, Loss: 3.358e-06, Lambda_1: 0.021, Lambda_2: 0.002410\n",
      "It: 6500, Loss: 3.188e-06, Lambda_1: 0.021, Lambda_2: 0.002410\n",
      "It: 6600, Loss: 3.029e-06, Lambda_1: 0.021, Lambda_2: 0.002410\n",
      "It: 6700, Loss: 2.880e-06, Lambda_1: 0.021, Lambda_2: 0.002410\n",
      "It: 6800, Loss: 2.739e-06, Lambda_1: 0.021, Lambda_2: 0.002410\n",
      "It: 6900, Loss: 2.608e-06, Lambda_1: 0.021, Lambda_2: 0.002410\n",
      "It: 7000, Loss: 2.484e-06, Lambda_1: 0.021, Lambda_2: 0.002410\n",
      "It: 7100, Loss: 2.368e-06, Lambda_1: 0.021, Lambda_2: 0.002410\n",
      "It: 7200, Loss: 2.259e-06, Lambda_1: 0.021, Lambda_2: 0.002410\n",
      "It: 7300, Loss: 2.156e-06, Lambda_1: 0.021, Lambda_2: 0.002410\n",
      "It: 7400, Loss: 2.059e-06, Lambda_1: 0.021, Lambda_2: 0.002410\n",
      "It: 7500, Loss: 1.967e-06, Lambda_1: 0.021, Lambda_2: 0.002410\n",
      "It: 7600, Loss: 1.880e-06, Lambda_1: 0.021, Lambda_2: 0.002410\n",
      "It: 7700, Loss: 1.798e-06, Lambda_1: 0.021, Lambda_2: 0.002410\n",
      "It: 7800, Loss: 1.720e-06, Lambda_1: 0.021, Lambda_2: 0.002410\n",
      "It: 7900, Loss: 1.645e-06, Lambda_1: 0.021, Lambda_2: 0.002410\n",
      "It: 8000, Loss: 1.574e-06, Lambda_1: 0.021, Lambda_2: 0.002410\n",
      "It: 8100, Loss: 1.507e-06, Lambda_1: 0.021, Lambda_2: 0.002410\n",
      "It: 8200, Loss: 1.442e-06, Lambda_1: 0.021, Lambda_2: 0.002410\n",
      "It: 8300, Loss: 1.380e-06, Lambda_1: 0.021, Lambda_2: 0.002410\n",
      "It: 8400, Loss: 1.321e-06, Lambda_1: 0.021, Lambda_2: 0.002410\n",
      "It: 8500, Loss: 1.267e-06, Lambda_1: 0.021, Lambda_2: 0.002410\n",
      "It: 8600, Loss: 1.445e-06, Lambda_1: 0.021, Lambda_2: 0.002410\n",
      "It: 8700, Loss: 1.162e-06, Lambda_1: 0.021, Lambda_2: 0.002410\n",
      "It: 8800, Loss: 2.899e-06, Lambda_1: 0.021, Lambda_2: 0.002410\n",
      "It: 8900, Loss: 1.072e-06, Lambda_1: 0.021, Lambda_2: 0.002410\n",
      "It: 9000, Loss: 1.027e-06, Lambda_1: 0.021, Lambda_2: 0.002410\n",
      "It: 9100, Loss: 1.007e-06, Lambda_1: 0.021, Lambda_2: 0.002409\n",
      "It: 9200, Loss: 9.487e-07, Lambda_1: 0.021, Lambda_2: 0.002409\n",
      "It: 9300, Loss: 4.671e-05, Lambda_1: 0.021, Lambda_2: 0.002409\n",
      "It: 9400, Loss: 8.779e-07, Lambda_1: 0.021, Lambda_2: 0.002409\n",
      "It: 9500, Loss: 8.467e-07, Lambda_1: 0.021, Lambda_2: 0.002409\n",
      "It: 9600, Loss: 8.177e-07, Lambda_1: 0.021, Lambda_2: 0.002408\n",
      "It: 9700, Loss: 7.778e-07, Lambda_1: 0.021, Lambda_2: 0.002408\n",
      "It: 9800, Loss: 1.190e-06, Lambda_1: 0.021, Lambda_2: 0.002408\n",
      "It: 9900, Loss: 7.217e-07, Lambda_1: 0.021, Lambda_2: 0.002408\n",
      "CPU times: user 2min 49s, sys: 1.23 s, total: 2min 50s\n",
      "Wall time: 2min 50s\n"
     ]
    }
   ],
   "source": [
    "%%time\n",
    "\n",
    "noise = 0.0            \n",
    "\n",
    "# create training set\n",
    "idx = np.random.choice(X_star.shape[0], N_u, replace=False)\n",
    "X_u_train = X_star[idx,:]\n",
    "u_train = u_star[idx,:]\n",
    "\n",
    "# training\n",
    "modelphy.train_data_physics(10000)"
   ]
  },
  {
   "cell_type": "code",
   "execution_count": 17,
   "metadata": {},
   "outputs": [
    {
     "name": "stdout",
     "output_type": "stream",
     "text": [
      "Error u: 1.041137e+00\n",
      "Error l1: 97.85362%\n",
      "Error l2: 24.36492%\n"
     ]
    }
   ],
   "source": [
    "# evaluations\n",
    "u_pred, f_pred = modelphy.predict_data_driven(X_star)\n",
    "\n",
    "error_u = np.linalg.norm(u_star-u_pred,2)/np.linalg.norm(u_star,2)\n",
    "\n",
    "U_pred = griddata(X_star, u_pred.flatten(), (X, T), method='cubic')\n",
    "\n",
    "lambda_1_value = modelphy.lambda_1.detach().cpu().numpy()\n",
    "lambda_2_value = modelphy.lambda_2.detach().cpu().numpy()\n",
    "lambda_2_value = np.exp(lambda_2_value)\n",
    "\n",
    "error_lambda_1 = np.abs(lambda_1_value - 1.0) * 100\n",
    "error_lambda_2 = np.abs(lambda_2_value - nu) / nu * 100\n",
    "\n",
    "print('Error u: %e' % (error_u))    \n",
    "print('Error l1: %.5f%%' % (error_lambda_1))                             \n",
    "print('Error l2: %.5f%%' % (error_lambda_2))  "
   ]
  },
  {
   "cell_type": "code",
   "execution_count": null,
   "metadata": {},
   "outputs": [],
   "source": []
  }
 ],
 "metadata": {
  "kernelspec": {
   "display_name": "Python 3 (ipykernel)",
   "language": "python",
   "name": "python3"
  },
  "language_info": {
   "codemirror_mode": {
    "name": "ipython",
    "version": 3
   },
   "file_extension": ".py",
   "mimetype": "text/x-python",
   "name": "python",
   "nbconvert_exporter": "python",
   "pygments_lexer": "ipython3",
   "version": "3.9.12"
  }
 },
 "nbformat": 4,
 "nbformat_minor": 4
}
