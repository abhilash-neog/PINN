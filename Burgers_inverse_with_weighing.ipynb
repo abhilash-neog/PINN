{
 "cells": [
  {
   "cell_type": "markdown",
   "metadata": {},
   "source": [
    "## Libraries and Dependencies"
   ]
  },
  {
   "cell_type": "code",
   "execution_count": 1,
   "metadata": {},
   "outputs": [],
   "source": [
    "import sys\n",
    "sys.path.insert(0, './utils/')\n",
    "\n",
    "import torch\n",
    "import numpy as np\n",
    "import matplotlib.pyplot as plt\n",
    "import scipy.io\n",
    "import matplotlib.gridspec as gridspec\n",
    "import warnings\n",
    "\n",
    "from collections import OrderedDict\n",
    "from scipy.interpolate import griddata\n",
    "from plotting import newfig, savefig\n",
    "from mpl_toolkits.axes_grid1 import make_axes_locatable\n",
    "\n",
    "warnings.filterwarnings('ignore')\n",
    "\n",
    "np.random.seed(1234)"
   ]
  },
  {
   "cell_type": "code",
   "execution_count": null,
   "metadata": {},
   "outputs": [],
   "source": [
    "'''\n",
    "set number of iterations\n",
    "'''\n",
    "n_iter = 10000"
   ]
  },
  {
   "cell_type": "code",
   "execution_count": 2,
   "metadata": {},
   "outputs": [],
   "source": [
    "# CUDA support \n",
    "if torch.cuda.is_available():\n",
    "    device = torch.device('cuda:2')\n",
    "else:\n",
    "    device = torch.device('cpu')"
   ]
  },
  {
   "cell_type": "code",
   "execution_count": 3,
   "metadata": {},
   "outputs": [
    {
     "data": {
      "text/plain": [
       "device(type='cuda', index=2)"
      ]
     },
     "execution_count": 3,
     "metadata": {},
     "output_type": "execute_result"
    }
   ],
   "source": [
    "device"
   ]
  },
  {
   "cell_type": "markdown",
   "metadata": {},
   "source": [
    "## Physics-informed Neural Networks"
   ]
  },
  {
   "cell_type": "code",
   "execution_count": 4,
   "metadata": {},
   "outputs": [],
   "source": [
    "# the deep neural network\n",
    "class DNN(torch.nn.Module):\n",
    "    def __init__(self, layers):\n",
    "        super(DNN, self).__init__()\n",
    "        \n",
    "        # parameters\n",
    "        self.depth = len(layers) - 1\n",
    "        \n",
    "        # set up layer order dict\n",
    "        self.activation = torch.nn.Tanh\n",
    "        \n",
    "        layer_list = list()\n",
    "        for i in range(self.depth - 1): \n",
    "            layer_list.append(\n",
    "                ('layer_%d' % i, torch.nn.Linear(layers[i], layers[i+1]))\n",
    "            )\n",
    "            layer_list.append(('activation_%d' % i, self.activation()))\n",
    "            \n",
    "        layer_list.append(\n",
    "            ('layer_%d' % (self.depth - 1), torch.nn.Linear(layers[-2], layers[-1]))\n",
    "        )\n",
    "        layerDict = OrderedDict(layer_list)\n",
    "        \n",
    "        # deploy layers\n",
    "        self.layers = torch.nn.Sequential(layerDict)\n",
    "        \n",
    "    def forward(self, x):\n",
    "        out = self.layers(x)\n",
    "        return out"
   ]
  },
  {
   "cell_type": "code",
   "execution_count": 5,
   "metadata": {},
   "outputs": [],
   "source": [
    "# def sigmoid(x, eta=1, shift=100, bias=1.):\n",
    "#     return 1/(1+torch.exp(-eta*(x-shift))) + bias\n",
    "\n",
    "# bias = 5\n",
    "# n_iter = 50000\n",
    "# eta = 10/n_iter #0.001 #n_iter/1e5\n",
    "# print(eta)\n",
    "# n = torch.linspace(0, n_iter, 101)\n",
    "# val = sigmoid(n, eta=eta, shift=n_iter//2, bias=bias)\n",
    "# max_val = val.max()\n",
    "# min_val = val.min()\n",
    "# val2 = max_val - val + bias\n",
    "\n",
    "# plt.figure()\n",
    "# plt.plot(n, val)\n",
    "# plt.plot(n, val2)\n",
    "# plt.ylim([min_val-0.3, max_val+0.3])\n",
    "# plt.show()"
   ]
  },
  {
   "cell_type": "code",
   "execution_count": 6,
   "metadata": {},
   "outputs": [],
   "source": [
    "bias = 5\n",
    "eta = 10/n_iter #0.001 #n_iter/1e5\n",
    "\n",
    "def sigmoid(x, eta=1, shift=100, bias=1.):\n",
    "    val = 1/(1+torch.exp(-eta*(x-shift))) + bias\n",
    "    max_val = val.max()\n",
    "    min_val = val.min()\n",
    "    val2 = max_val - val + bias\n",
    "    \n",
    "    return val, val2"
   ]
  },
  {
   "cell_type": "code",
   "execution_count": 7,
   "metadata": {},
   "outputs": [],
   "source": [
    "# the physics-guided neural network\n",
    "class PhysicsInformedNN():\n",
    "    def __init__(self, X, u, layers, lb, ub):\n",
    "        \n",
    "        # boundary conditions\n",
    "        self.lb = torch.tensor(lb).float().to(device)\n",
    "        self.ub = torch.tensor(ub).float().to(device)\n",
    "        \n",
    "        # data\n",
    "        self.x = torch.tensor(X[:, 0:1], requires_grad=True).float().to(device)\n",
    "        self.t = torch.tensor(X[:, 1:2], requires_grad=True).float().to(device)\n",
    "        self.u = torch.tensor(u).float().to(device)\n",
    "        \n",
    "        # settings\n",
    "        self.lambda_1 = torch.tensor([0.0], requires_grad=True).to(device)\n",
    "        self.lambda_2 = torch.tensor([-6.0], requires_grad=True).to(device)\n",
    "        \n",
    "        self.lambda_1 = torch.nn.Parameter(self.lambda_1)\n",
    "        self.lambda_2 = torch.nn.Parameter(self.lambda_2)\n",
    "        \n",
    "        # deep neural networks\n",
    "        self.dnn = DNN(layers).to(device)\n",
    "        self.dnn.register_parameter('lambda_1', self.lambda_1)\n",
    "        self.dnn.register_parameter('lambda_2', self.lambda_2)\n",
    "        \n",
    "         # optimizers: using the same settings\n",
    "        self.optimizer = torch.optim.LBFGS(\n",
    "            self.dnn.parameters(), \n",
    "            lr=1.0, \n",
    "            max_iter=n_iter, \n",
    "            max_eval=n_iter, \n",
    "            history_size=50,\n",
    "            tolerance_grad=1e-5, \n",
    "            tolerance_change=1.0 * np.finfo(float).eps,\n",
    "            line_search_fn=\"strong_wolfe\"       # can be \"strong_wolfe\"\n",
    "        )\n",
    "        \n",
    "        self.optimizer_Adam = torch.optim.Adam(self.dnn.parameters())\n",
    "        self.iter = 0\n",
    "        \n",
    "        self.history = []\n",
    "        \n",
    "        self.a_1 = 1\n",
    "        self.a_2 = 1\n",
    "\n",
    "    def net_u(self, x, t):  \n",
    "        u = self.dnn(torch.cat([x, t], dim=1))\n",
    "        return u\n",
    "    \n",
    "    def net_f(self, x, t):\n",
    "        \"\"\" The pytorch autograd version of calculating residual \"\"\"\n",
    "        lambda_1 = self.lambda_1        \n",
    "        lambda_2 = torch.exp(self.lambda_2)\n",
    "        u = self.net_u(x, t)\n",
    "        \n",
    "        u_t = torch.autograd.grad(\n",
    "            u, t, \n",
    "            grad_outputs=torch.ones_like(u),\n",
    "            retain_graph=True,\n",
    "            create_graph=True\n",
    "        )[0]\n",
    "        u_x = torch.autograd.grad(\n",
    "            u, x, \n",
    "            grad_outputs=torch.ones_like(u),\n",
    "            retain_graph=True,\n",
    "            create_graph=True\n",
    "        )[0]\n",
    "        u_xx = torch.autograd.grad(\n",
    "            u_x, x, \n",
    "            grad_outputs=torch.ones_like(u_x),\n",
    "            retain_graph=True,\n",
    "            create_graph=True\n",
    "        )[0]\n",
    "        \n",
    "        f = u_t + lambda_1 * u * u_x - lambda_2 * u_xx\n",
    "        return f\n",
    "\n",
    "    def loss_func(self):\n",
    "        u_pred = self.net_u(self.x, self.t)\n",
    "        f_pred = self.net_f(self.x, self.t)\n",
    "        \n",
    "        if self.iter%100 == 0:\n",
    "            self.a_1, self.a_2 = sigmoid(torch.tensor(self.iter), eta=eta, shift=n_iter//2, bias=bias)\n",
    "        \n",
    "        loss = self.a_2*torch.mean((self.u - u_pred) ** 2) + self.a_1*torch.mean(f_pred ** 2)\n",
    "        self.optimizer.zero_grad()\n",
    "        loss.backward()\n",
    "        self.history.append(loss.item())\n",
    "        self.iter += 1\n",
    "        if self.iter % 100 == 0:\n",
    "            print(\n",
    "                'Loss: %e, l1: %.5f, l2: %.5f' % \n",
    "                (\n",
    "                    loss.item(), \n",
    "                    self.lambda_1.item(), \n",
    "                    torch.exp(self.lambda_2.detach()).item()\n",
    "                )\n",
    "            )\n",
    "        return loss\n",
    "    \n",
    "    def train(self, nIter):\n",
    "        self.dnn.train()\n",
    "        for epoch in range(nIter):\n",
    "            u_pred = self.net_u(self.x, self.t)\n",
    "            f_pred = self.net_f(self.x, self.t)\n",
    "            \n",
    "            if epoch%100 == 0:\n",
    "                self.a_1, self.a_2 = sigmoid(torch.tensor(epoch), eta=eta, shift=n_iter//2, bias=bias)\n",
    "            \n",
    "            loss = self.a_2*torch.mean((self.u - u_pred) ** 2) + self.a_1*torch.mean(f_pred ** 2)\n",
    "            \n",
    "            # Backward and optimize\n",
    "            self.optimizer_Adam.zero_grad()\n",
    "            loss.backward()\n",
    "            self.optimizer_Adam.step()\n",
    "            self.history.append(loss.item())\n",
    "            if epoch % 100 == 0:\n",
    "                print(\n",
    "                    'It: %d, Loss: %.3e, Lambda_1: %.3f, Lambda_2: %.6f' % \n",
    "                    (\n",
    "                        epoch, \n",
    "                        loss.item(), \n",
    "                        self.lambda_1.item(), \n",
    "                        torch.exp(self.lambda_2).item()\n",
    "                    )\n",
    "                )\n",
    "                \n",
    "        # Backward and optimize\n",
    "        self.optimizer.step(self.loss_func)\n",
    "    \n",
    "    def predict(self, X):\n",
    "        x = torch.tensor(X[:, 0:1], requires_grad=True).float().to(device)\n",
    "        t = torch.tensor(X[:, 1:2], requires_grad=True).float().to(device)\n",
    "\n",
    "        self.dnn.eval()\n",
    "        u = self.net_u(x, t)\n",
    "        f = self.net_f(x, t)\n",
    "        u = u.detach().cpu().numpy()\n",
    "        f = f.detach().cpu().numpy()\n",
    "        return u, f"
   ]
  },
  {
   "cell_type": "markdown",
   "metadata": {},
   "source": [
    "## Configurations"
   ]
  },
  {
   "cell_type": "code",
   "execution_count": 8,
   "metadata": {},
   "outputs": [],
   "source": [
    "nu = 0.01/np.pi\n",
    "\n",
    "N_u = 2000\n",
    "layers = [2, 20, 20, 20, 20, 20, 20, 20, 20, 1]\n",
    "\n",
    "data = scipy.io.loadmat('data/burgers_shock.mat')\n",
    "\n",
    "t = data['t'].flatten()[:,None]\n",
    "x = data['x'].flatten()[:,None]\n",
    "Exact = np.real(data['usol']).T\n",
    "\n",
    "X, T = np.meshgrid(x,t)\n",
    "\n",
    "X_star = np.hstack((X.flatten()[:,None], T.flatten()[:,None]))\n",
    "u_star = Exact.flatten()[:,None]              \n",
    "\n",
    "# Doman bounds\n",
    "lb = X_star.min(0)\n",
    "ub = X_star.max(0) "
   ]
  },
  {
   "cell_type": "markdown",
   "metadata": {},
   "source": [
    "## Training on Non-noisy Data"
   ]
  },
  {
   "cell_type": "code",
   "execution_count": 9,
   "metadata": {
    "scrolled": true,
    "tags": []
   },
   "outputs": [
    {
     "name": "stdout",
     "output_type": "stream",
     "text": [
      "Loss: 1.322093e-01, l1: 0.25003, l2: 0.00230\n",
      "Loss: 8.175379e-02, l1: 0.42375, l2: 0.00280\n",
      "Loss: 6.021179e-02, l1: 0.55712, l2: 0.00382\n",
      "Loss: 3.946588e-02, l1: 0.64873, l2: 0.00507\n",
      "Loss: 2.745482e-02, l1: 0.73551, l2: 0.00572\n",
      "Loss: 1.841225e-02, l1: 0.83427, l2: 0.00592\n",
      "Loss: 1.305592e-02, l1: 0.86704, l2: 0.00624\n",
      "Loss: 6.922782e-03, l1: 0.92564, l2: 0.00510\n",
      "Loss: 4.414752e-03, l1: 0.93587, l2: 0.00466\n",
      "Loss: 2.582147e-03, l1: 0.96085, l2: 0.00437\n",
      "Loss: 1.911657e-03, l1: 0.97542, l2: 0.00426\n",
      "Loss: 1.397449e-03, l1: 0.97754, l2: 0.00416\n",
      "Loss: 1.087279e-03, l1: 0.98504, l2: 0.00400\n",
      "Loss: 9.341774e-04, l1: 0.97740, l2: 0.00387\n",
      "Loss: 8.075726e-04, l1: 0.97779, l2: 0.00373\n",
      "Loss: 7.373620e-04, l1: 0.98184, l2: 0.00366\n",
      "CPU times: user 54.1 s, sys: 4.64 s, total: 58.7 s\n",
      "Wall time: 58.8 s\n"
     ]
    }
   ],
   "source": [
    "%%time\n",
    "\n",
    "noise = 0.0            \n",
    "\n",
    "# create training set\n",
    "idx = np.random.choice(X_star.shape[0], N_u, replace=False)\n",
    "X_u_train = X_star[idx,:]\n",
    "u_train = u_star[idx,:]\n",
    "\n",
    "# training\n",
    "model = PhysicsInformedNN(X_u_train, u_train, layers, lb, ub)\n",
    "model.train(0)"
   ]
  },
  {
   "cell_type": "code",
   "execution_count": 10,
   "metadata": {},
   "outputs": [
    {
     "data": {
      "text/plain": [
       "[<matplotlib.lines.Line2D at 0x7f3b644217c0>]"
      ]
     },
     "execution_count": 10,
     "metadata": {},
     "output_type": "execute_result"
    },
    {
     "data": {
      "image/png": "[encoded data removed]",
      "text/plain": [
       "<Figure size 1500x400 with 1 Axes>"
      ]
     },
     "metadata": {},
     "output_type": "display_data"
    }
   ],
   "source": [
    "plt.figure(figsize=(15,4))\n",
    "plt.title(\"With loss weighing\")\n",
    "plt.xlabel(\"BFGS iterations\")\n",
    "plt.ylabel(\"Loss\")\n",
    "plt.plot(model.history)"
   ]
  },
  {
   "cell_type": "code",
   "execution_count": 11,
   "metadata": {},
   "outputs": [
    {
     "name": "stdout",
     "output_type": "stream",
     "text": [
      "Error u: 1.359414e-02\n",
      "Error l1: 1.81595%\n",
      "Error l2: 15.04362%\n"
     ]
    }
   ],
   "source": [
    "# evaluations\n",
    "u_pred, f_pred = model.predict(X_star)\n",
    "\n",
    "error_u = np.linalg.norm(u_star-u_pred,2)/np.linalg.norm(u_star,2)\n",
    "\n",
    "U_pred = griddata(X_star, u_pred.flatten(), (X, T), method='cubic')\n",
    "\n",
    "lambda_1_value = model.lambda_1.detach().cpu().numpy()\n",
    "lambda_2_value = model.lambda_2.detach().cpu().numpy()\n",
    "lambda_2_value = np.exp(lambda_2_value)\n",
    "\n",
    "error_lambda_1 = np.abs(lambda_1_value - 1.0) * 100\n",
    "error_lambda_2 = np.abs(lambda_2_value - nu) / nu * 100\n",
    "\n",
    "print('Error u: %e' % (error_u))    \n",
    "print('Error l1: %.5f%%' % (error_lambda_1))                             \n",
    "print('Error l2: %.5f%%' % (error_lambda_2))  "
   ]
  },
  {
   "cell_type": "markdown",
   "metadata": {},
   "source": [
    "## Training on Noisy Data"
   ]
  },
  {
   "cell_type": "code",
   "execution_count": 12,
   "metadata": {
    "scrolled": true,
    "tags": []
   },
   "outputs": [],
   "source": [
    "# noise = 0.01    \n",
    "\n",
    "# # create training set\n",
    "# u_train = u_train + noise*np.std(u_train)*np.random.randn(u_train.shape[0], u_train.shape[1])\n",
    "\n",
    "# # training\n",
    "# model = PhysicsInformedNN(X_u_train, u_train, layers, lb, ub)\n",
    "# model.train(10000)            "
   ]
  },
  {
   "cell_type": "markdown",
   "metadata": {},
   "source": [
    "## Visualizations"
   ]
  },
  {
   "cell_type": "code",
   "execution_count": 13,
   "metadata": {},
   "outputs": [],
   "source": [
    "\n",
    "# \"\"\" The aesthetic setting has changed. \"\"\"\n",
    "\n",
    "# ####### Row 0: u(t,x) ##################    \n",
    "\n",
    "# fig = plt.figure(figsize=(9, 5))\n",
    "# ax = fig.add_subplot(111)\n",
    "\n",
    "# h = ax.imshow(U_pred.T, interpolation='nearest', cmap='rainbow', \n",
    "#               extent=[t.min(), t.max(), x.min(), x.max()], \n",
    "#               origin='lower', aspect='auto')\n",
    "# divider = make_axes_locatable(ax)\n",
    "# cax = divider.append_axes(\"right\", size=\"5%\", pad=0.10)\n",
    "# cbar = fig.colorbar(h, cax=cax)\n",
    "# cbar.ax.tick_params(labelsize=15) \n",
    "\n",
    "# ax.plot(\n",
    "#     X_u_train[:,1], \n",
    "#     X_u_train[:,0], \n",
    "#     'kx', label = 'Data (%d points)' % (u_train.shape[0]), \n",
    "#     markersize = 4,  # marker size doubled\n",
    "#     clip_on = False,\n",
    "#     alpha=.5\n",
    "# )\n",
    "\n",
    "# line = np.linspace(x.min(), x.max(), 2)[:,None]\n",
    "# ax.plot(t[25]*np.ones((2,1)), line, 'w-', linewidth = 1)\n",
    "# ax.plot(t[50]*np.ones((2,1)), line, 'w-', linewidth = 1)\n",
    "# ax.plot(t[75]*np.ones((2,1)), line, 'w-', linewidth = 1)\n",
    "\n",
    "# ax.set_xlabel('$t$', size=20)\n",
    "# ax.set_ylabel('$x$', size=20)\n",
    "# ax.legend(\n",
    "#     loc='upper center', \n",
    "#     bbox_to_anchor=(0.9, -0.05), \n",
    "#     ncol=5, \n",
    "#     frameon=False, \n",
    "#     prop={'size': 15}\n",
    "# )\n",
    "# ax.set_title('$u(t,x)$', fontsize = 20) # font size doubled\n",
    "# ax.tick_params(labelsize=15)\n",
    "\n",
    "# plt.show()"
   ]
  },
  {
   "cell_type": "code",
   "execution_count": 14,
   "metadata": {},
   "outputs": [],
   "source": [
    "# ####### Row 1: u(t,x) slices ################## \n",
    "\n",
    "# \"\"\" The aesthetic setting has changed. \"\"\"\n",
    "\n",
    "# fig = plt.figure(figsize=(14, 10))\n",
    "# ax = fig.add_subplot(111)\n",
    "\n",
    "# gs1 = gridspec.GridSpec(1, 3)\n",
    "# gs1.update(top=1-1.0/3.0-0.1, bottom=1.0-2.0/3.0, left=0.1, right=0.9, wspace=0.5)\n",
    "\n",
    "# ax = plt.subplot(gs1[0, 0])\n",
    "# ax.plot(x,Exact[25,:], 'b-', linewidth = 2, label = 'Exact')       \n",
    "# ax.plot(x,U_pred[25,:], 'r--', linewidth = 2, label = 'Prediction')\n",
    "# ax.set_xlabel('$x$')\n",
    "# ax.set_ylabel('$u(t,x)$')    \n",
    "# ax.set_title('$t = 0.25$', fontsize = 15)\n",
    "# ax.axis('square')\n",
    "# ax.set_xlim([-1.1,1.1])\n",
    "# ax.set_ylim([-1.1,1.1])\n",
    "\n",
    "# for item in ([ax.title, ax.xaxis.label, ax.yaxis.label] +\n",
    "#              ax.get_xticklabels() + ax.get_yticklabels()):\n",
    "#     item.set_fontsize(15)\n",
    "\n",
    "# ax = plt.subplot(gs1[0, 1])\n",
    "# ax.plot(x,Exact[50,:], 'b-', linewidth = 2, label = 'Exact')       \n",
    "# ax.plot(x,U_pred[50,:], 'r--', linewidth = 2, label = 'Prediction')\n",
    "# ax.set_xlabel('$x$')\n",
    "# ax.set_ylabel('$u(t,x)$')\n",
    "# ax.axis('square')\n",
    "# ax.set_xlim([-1.1,1.1])\n",
    "# ax.set_ylim([-1.1,1.1])\n",
    "# ax.set_title('$t = 0.50$', fontsize = 15)\n",
    "# ax.legend(\n",
    "#     loc='upper center', \n",
    "#     bbox_to_anchor=(0.5, -0.15), \n",
    "#     ncol=5, \n",
    "#     frameon=False, \n",
    "#     prop={'size': 15}\n",
    "# )\n",
    "\n",
    "# for item in ([ax.title, ax.xaxis.label, ax.yaxis.label] +\n",
    "#              ax.get_xticklabels() + ax.get_yticklabels()):\n",
    "#     item.set_fontsize(15)\n",
    "\n",
    "# ax = plt.subplot(gs1[0, 2])\n",
    "# ax.plot(x,Exact[75,:], 'b-', linewidth = 2, label = 'Exact')       \n",
    "# ax.plot(x,U_pred[75,:], 'r--', linewidth = 2, label = 'Prediction')\n",
    "# ax.set_xlabel('$x$')\n",
    "# ax.set_ylabel('$u(t,x)$')\n",
    "# ax.axis('square')\n",
    "# ax.set_xlim([-1.1,1.1])\n",
    "# ax.set_ylim([-1.1,1.1])    \n",
    "# ax.set_title('$t = 0.75$', fontsize = 15)\n",
    "\n",
    "# for item in ([ax.title, ax.xaxis.label, ax.yaxis.label] +\n",
    "#              ax.get_xticklabels() + ax.get_yticklabels()):\n",
    "#     item.set_fontsize(15)\n",
    "\n",
    "# plt.show()"
   ]
  },
  {
   "cell_type": "code",
   "execution_count": 15,
   "metadata": {},
   "outputs": [],
   "source": [
    "# # evaluations\n",
    "# u_pred, f_pred = model.predict(X_star)\n",
    "\n",
    "# lambda_1_value_noisy = model.lambda_1.detach().cpu().numpy()\n",
    "# lambda_2_value_noisy = model.lambda_2.detach().cpu().numpy()\n",
    "# lambda_2_value_noisy = np.exp(lambda_2_value_noisy)\n",
    "\n",
    "# error_lambda_1_noisy = np.abs(lambda_1_value_noisy - 1.0) * 100\n",
    "# error_lambda_2_noisy = np.abs(lambda_2_value_noisy - nu) / nu * 100\n",
    "\n",
    "# print('Error u: %e' % (error_u))    \n",
    "# print('Error l1: %.5f%%' % (error_lambda_1_noisy))                             \n",
    "# print('Error l2: %.5f%%' % (error_lambda_2_noisy))    "
   ]
  },
  {
   "cell_type": "code",
   "execution_count": 16,
   "metadata": {},
   "outputs": [
    {
     "data": {
      "image/png": "[encoded data removed]",
      "text/plain": [
       "<Figure size 1400x1000 with 1 Axes>"
      ]
     },
     "metadata": {},
     "output_type": "display_data"
    }
   ],
   "source": [
    "####### Row 3: Identified PDE ##################    \n",
    "\n",
    "fig = plt.figure(figsize=(14, 10))\n",
    "\n",
    "gs2 = gridspec.GridSpec(1, 3)\n",
    "gs2.update(top=0.25, bottom=0, left=0.0, right=1.0, wspace=0.0)\n",
    "\n",
    "ax = plt.subplot(gs2[:, :])\n",
    "ax.axis('off')\n",
    "\n",
    "s1 = r'$\\begin{tabular}{ |c|c| }  \\hline Correct PDE & $u_t + u u_x - 0.0031831 u_{xx} = 0$ \\\\  \\hline Identified PDE (clean data) & '\n",
    "s2 = r'$u_t + %.5f u u_x - %.7f u_{xx} = 0$ \\\\  \\hline ' % (lambda_1_value, lambda_2_value)\n",
    "s3 = r'Identified PDE (1\\% noise) & '\n",
    "# s4 = r'$u_t + %.5f u u_x - %.7f u_{xx} = 0$  \\\\  \\hline ' % (lambda_1_value_noisy, lambda_2_value_noisy)\n",
    "s5 = r'\\end{tabular}$'\n",
    "s = s1+s2+s5\n",
    "ax.text(0.1, 0.1, s, size=25)\n",
    "\n",
    "plt.show()"
   ]
  },
  {
   "cell_type": "code",
   "execution_count": null,
   "metadata": {},
   "outputs": [],
   "source": []
  }
 ],
 "metadata": {
  "kernelspec": {
   "display_name": "Python 3 (ipykernel)",
   "language": "python",
   "name": "python3"
  },
  "language_info": {
   "codemirror_mode": {
    "name": "ipython",
    "version": 3
   },
   "file_extension": ".py",
   "mimetype": "text/x-python",
   "name": "python",
   "nbconvert_exporter": "python",
   "pygments_lexer": "ipython3",
   "version": "3.9.12"
  }
 },
 "nbformat": 4,
 "nbformat_minor": 4
}
